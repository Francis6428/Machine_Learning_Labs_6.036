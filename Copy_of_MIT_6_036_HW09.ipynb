{
  "nbformat": 4,
  "nbformat_minor": 0,
  "metadata": {
    "colab": {
      "name": "Copy of MIT 6.036 HW09",
      "provenance": [],
      "collapsed_sections": [],
      "include_colab_link": true
    },
    "kernelspec": {
      "name": "python3",
      "display_name": "Python 3"
    }
  },
  "cells": [
    {
      "cell_type": "markdown",
      "metadata": {
        "id": "view-in-github",
        "colab_type": "text"
      },
      "source": [
        "<a href=\"https://colab.research.google.com/github/snpushpi/MIT_machine_learning/blob/master/Copy_of_MIT_6_036_HW09.ipynb\" target=\"_parent\"><img src=\"https://colab.research.google.com/assets/colab-badge.svg\" alt=\"Open In Colab\"/></a>"
      ]
    },
    {
      "cell_type": "markdown",
      "metadata": {
        "id": "wCZ5V-cO65Yr",
        "colab_type": "text"
      },
      "source": [
        "#MIT 6.036 Spring 2020: Homework 9#\n",
        "\n",
        "This colab notebook provides code and a framework for question 1 and 5 of the [homework](https://lms.mitx.mit.edu/courses/course-v1:MITx+6.036+2020_Spring/courseware/Week9/week9_homework/).  You can work out your solutions here, then submit your results back on the homework page when ready.\n"
      ]
    },
    {
      "cell_type": "markdown",
      "metadata": {
        "id": "oqYqLxGp7hZZ",
        "colab_type": "text"
      },
      "source": [
        "## Setup"
      ]
    },
    {
      "cell_type": "markdown",
      "metadata": {
        "id": "NaNYfsS87tUi",
        "colab_type": "text"
      },
      "source": [
        "First, download the code distribution for this homework that contains test cases and helper functions.\n",
        "\n",
        "Run the next code block to download and import the code for this lab."
      ]
    },
    {
      "cell_type": "code",
      "metadata": {
        "id": "c7CRuXxj7ubB",
        "colab_type": "code",
        "outputId": "20f42ae6-4d71-4348-a5ea-93dab095ea89",
        "colab": {
          "base_uri": "https://localhost:8080/",
          "height": 357
        }
      },
      "source": [
        "!rm -rf code_for_hw9*\n",
        "!wget --quiet https://introml.odl.mit.edu/cat-soop/_static/6.036/homework/hw09/code_for_hw9.zip\n",
        "!unzip code_for_hw9.zip\n",
        "!mv code_for_hw9/* .\n",
        "\n",
        "from dist import *\n",
        "from sm import *\n",
        "from util import *\n",
        "from mdp import *\n",
        "\n",
        "import mdp\n",
        "import numpy as np"
      ],
      "execution_count": 0,
      "outputs": [
        {
          "output_type": "stream",
          "text": [
            "Archive:  code_for_hw9.zip\n",
            "   creating: code_for_hw9/\n",
            "  inflating: code_for_hw9/util.py    \n",
            "   creating: __MACOSX/\n",
            "   creating: __MACOSX/code_for_hw9/\n",
            "  inflating: __MACOSX/code_for_hw9/._util.py  \n",
            "  inflating: code_for_hw9/sm.py      \n",
            "  inflating: __MACOSX/code_for_hw9/._sm.py  \n",
            "  inflating: code_for_hw9/mdp.py     \n",
            "  inflating: __MACOSX/code_for_hw9/._mdp.py  \n",
            "  inflating: code_for_hw9/tests.py   \n",
            "  inflating: __MACOSX/code_for_hw9/._tests.py  \n",
            "  inflating: code_for_hw9/dist.py    \n",
            "  inflating: __MACOSX/code_for_hw9/._dist.py  \n",
            "  inflating: __MACOSX/._code_for_hw9  \n",
            "   creating: code_for_hw9/__pycache__/\n",
            "  inflating: code_for_hw9/__pycache__/mdp.cpython-38.pyc  \n",
            "  inflating: code_for_hw9/__pycache__/sm.cpython-38.pyc  \n",
            "  inflating: code_for_hw9/__pycache__/dist.cpython-38.pyc  \n",
            "  inflating: code_for_hw9/__pycache__/util.cpython-38.pyc  \n"
          ],
          "name": "stdout"
        }
      ]
    },
    {
      "cell_type": "markdown",
      "metadata": {
        "id": "uhGY4b888N52",
        "colab_type": "text"
      },
      "source": [
        "## 1) State Machines\n",
        "\n",
        "We will implement state machines as sub-classes of the `SM` class, which specifies the `start_state`, `transition_fn` and `output_fn`.\n",
        "\n",
        "```\n",
        "class SM:\n",
        "    start_state = None  # default start state\n",
        "    def transition_fn(self, s, x):\n",
        "        '''s:       the current state\n",
        "           i:       the given input\n",
        "           returns: the next state'''\n",
        "        raise NotImplementedError\n",
        "    def output_fn(self, s):\n",
        "        '''s:       the current state\n",
        "           returns: the corresponding output'''\n",
        "        raise NotImplementedError\n",
        "```\n",
        "\n",
        "An example of a sub-class is the `Accumulator` state machine, which adds up (accumulates) its input and outputs the sum. Convince yourself that the implementation works as expected before moving on.\n",
        "\n",
        "```\n",
        "class Accumulator(SM):\n",
        "    start_state = 0\n",
        "    def transition_fn(self, s, x):\n",
        "        return s + x\n",
        "    def output_fn(self, s):\n",
        "        return s\n",
        "```"
      ]
    },
    {
      "cell_type": "markdown",
      "metadata": {
        "id": "sYF-u59B861-",
        "colab_type": "text"
      },
      "source": [
        "### 1.1 Transduce\n",
        "Implement the `transduce` method for the `SM` class. It is given an input sequence (a list) and returns an output sequence (a list) of the outputs of the state machine on the input sequence. Assume `self.transition_fn` and `self.output_fn` are defined."
      ]
    },
    {
      "cell_type": "code",
      "metadata": {
        "id": "Xy42nJa69D3i",
        "colab_type": "code",
        "colab": {}
      },
      "source": [
        "class SM:\n",
        "    start_state = None\n",
        "    def transduce(self, input_seq):\n",
        "        '''input_seq: a list of inputs to feed into SM\n",
        "           returns:   a list of outputs of SM'''\n",
        "        output_seq = []\n",
        "        curr_state = self.start_state\n",
        "        for i in input_seq:\n",
        "            curr_state = self.transition_fn(curr_state,i)\n",
        "            output_seq.append(self.output_fn(curr_state))\n",
        "        return output_seq"
      ],
      "execution_count": 0,
      "outputs": []
    },
    {
      "cell_type": "markdown",
      "metadata": {
        "id": "Kzdkh0p8AGi_",
        "colab_type": "text"
      },
      "source": [
        "Below is the `Accumulator` state machine implementation that you saw above as well as an unit test to help test your `SM` class."
      ]
    },
    {
      "cell_type": "code",
      "metadata": {
        "id": "qmRnua5p_U9j",
        "colab_type": "code",
        "outputId": "98b4453d-4421-491d-9ca2-527a4078db2a",
        "colab": {
          "base_uri": "https://localhost:8080/",
          "height": 34
        }
      },
      "source": [
        "class Accumulator(SM):\n",
        "    start_state = 0\n",
        "\n",
        "    def transition_fn(self, s, x):\n",
        "        return s + x\n",
        "\n",
        "    def output_fn(self, s):\n",
        "        return s\n",
        "    \n",
        "def test_accumulator_sm():\n",
        "    res = Accumulator().transduce([-1, 2, 3, -2, 5, 6])\n",
        "    assert(res == [-1, 1, 4, 2, 7, 13])\n",
        "    print(\"Test passed!\")\n",
        "\n",
        "# Unit test\n",
        "test_accumulator_sm()"
      ],
      "execution_count": 0,
      "outputs": [
        {
          "output_type": "stream",
          "text": [
            "Test passed!\n"
          ],
          "name": "stdout"
        }
      ]
    },
    {
      "cell_type": "markdown",
      "metadata": {
        "id": "j-QW8TSk9T1E",
        "colab_type": "text"
      },
      "source": [
        "### 1.2 Binary Addition\n",
        "Implement a `Binary_Addition` state machine that takes in a sequence of pairs of binary digits (0,1) representing two reversed binary numbers and returns a sequence of digits representing the reversed sum. For instance, to sum two binary numbers `100` and `011`, the input sequence will be `[(0, 1), (0, 1), (1, 0)]`. You will need to define `start_state`, `transition_fn` and `output_fn`. Note that when transduced, the input sequence may need to be extended with an extra (0,0) to output the final carry."
      ]
    },
    {
      "cell_type": "code",
      "metadata": {
        "id": "JKcWyGrZ9mEj",
        "colab_type": "code",
        "colab": {}
      },
      "source": [
        "class Binary_Addition(SM):\n",
        "    \n",
        "\n",
        "    start_state = [0,0]#left side is carry, right side is sum of two bits\n",
        "    \n",
        "    def transition_fn(self, s, x):\n",
        "        # Your code here\n",
        "        #the second part of the tuple is remainder\n",
        "        if s[0]==0:\n",
        "            if (x[0]==0 and x[1]==1) or (x[0]==1 and x[1]==0):\n",
        "                s[1]=1\n",
        "                \n",
        "            elif x[1]==1 and x[1]==1:\n",
        "                s[0]=1\n",
        "                s[1]=0\n",
        "            else:\n",
        "                s[1]=0\n",
        "                s[0]=0\n",
        "        else:\n",
        "            if (x[0]==0 and x[1]==1) or (x[0]==1 and x[1]==0):\n",
        "                s[1]=0\n",
        "            elif x[0]==1 and x[1]==1:\n",
        "                s[0]=1\n",
        "                s[1]=1\n",
        "            else:\n",
        "                s[0]=0\n",
        "                s[1]=1\n",
        "                \n",
        "        return s         \n",
        "            \n",
        "            \n",
        "    def output_fn(self, s):\n",
        "        # Your code here\n",
        "        print('hi',s)\n",
        "        return s[1]"
      ],
      "execution_count": 0,
      "outputs": []
    },
    {
      "cell_type": "code",
      "metadata": {
        "id": "5hvOZXkcA0Au",
        "colab_type": "code",
        "outputId": "135b64c7-109e-468d-8d07-c9d063f22fe0",
        "colab": {
          "base_uri": "https://localhost:8080/",
          "height": 85
        }
      },
      "source": [
        "def test_binary_addition_sm():\n",
        "    res = Binary_Addition().transduce([(1, 1), (1, 0), (0, 0)])\n",
        "    assert(res == [0, 0, 1])\n",
        "    print(\"Test passed!\")\n",
        "\n",
        "# Unit test\n",
        "test_binary_addition_sm()"
      ],
      "execution_count": 0,
      "outputs": [
        {
          "output_type": "stream",
          "text": [
            "hi [1, 0]\n",
            "hi [1, 0]\n",
            "hi [0, 1]\n",
            "Test passed!\n"
          ],
          "name": "stdout"
        }
      ]
    },
    {
      "cell_type": "markdown",
      "metadata": {
        "id": "vtIAZJN79s0h",
        "colab_type": "text"
      },
      "source": [
        "### 1.3 Reverser\n",
        "Implement a state machine that reverses a sequence. The input is a list of the form:\n",
        "\n",
        "```\n",
        " sequence1 + ['end'] + sequence2\n",
        " ```\n",
        " \n",
        "`+` refers to concatenation. `sequence1` is a list of strings, the `'end'` string indicates termination, and `sequence2` is arbitrary. The machine reverses `sequence1`: for each entry in the `sequence1`, the machine outputs `None`. For the `'end'` input and each entry in the second sequence, an item from the reversed `sequence1` is output, or `None` if no characters remain."
      ]
    },
    {
      "cell_type": "code",
      "metadata": {
        "id": "VtsUESbg9wAS",
        "colab_type": "code",
        "colab": {}
      },
      "source": [
        "class Reverser(SM):\n",
        "    start_state = [1]\n",
        "\n",
        "    def transition_fn(self, s, x):\n",
        "        # Your code here\n",
        "        if x=='end' and s[0]==2:\n",
        "            if len(s)>1:\n",
        "                s.pop()\n",
        "                return s\n",
        "        if x=='end':\n",
        "            s[0]=2 \n",
        "            return s\n",
        "        if s[0]==1:\n",
        "            s.append(x) \n",
        "            return s\n",
        "        if x!='end' and s[0]==2:\n",
        "            if len(s)>1:\n",
        "                s.pop() \n",
        "        \n",
        "        return s \n",
        "\n",
        "    def output_fn(self, s):\n",
        "        # Your code here\n",
        "        print(s)\n",
        "        if len(s)>1:\n",
        "            if s[0]==1:\n",
        "                return None\n",
        "            else:\n",
        "                return s[-1]\n",
        "        else:\n",
        "            return None\n",
        "        "
      ],
      "execution_count": 0,
      "outputs": []
    },
    {
      "cell_type": "code",
      "metadata": {
        "id": "XchT3a-fA9oM",
        "colab_type": "code",
        "outputId": "81a23015-2881-4239-8c59-b6b41c068adf",
        "colab": {
          "base_uri": "https://localhost:8080/",
          "height": 187
        }
      },
      "source": [
        "def test_reverser_sm():\n",
        "    res = Reverser().transduce(['foo', ' ', 'bar'] + ['end'] + list(range(5)))\n",
        "    assert(res == [None, None, None, 'bar', ' ', 'foo', None, None, None])\n",
        "    print(\"Test passed!\")\n",
        "\n",
        "# Unit test\n",
        "test_reverser_sm()"
      ],
      "execution_count": 0,
      "outputs": [
        {
          "output_type": "stream",
          "text": [
            "[1, 'foo']\n",
            "[1, 'foo', ' ']\n",
            "[1, 'foo', ' ', 'bar']\n",
            "[2, 'foo', ' ', 'bar']\n",
            "[2, 'foo', ' ']\n",
            "[2, 'foo']\n",
            "[2]\n",
            "[2]\n",
            "[2]\n",
            "Test passed!\n"
          ],
          "name": "stdout"
        }
      ]
    },
    {
      "cell_type": "markdown",
      "metadata": {
        "id": "hmewFWqx_4ep",
        "colab_type": "text"
      },
      "source": [
        "### 1.4 RNN\n",
        "An RNN has a transition function and an output function, each of which is defined in terms of weight matrices, offset vectors and activation functions, analogously to standard neural networks.\n",
        "\n",
        "* The inputs $x$ are $l\\times1$ vectors\n",
        "* The states $s$ are $m\\times1$ vectors\n",
        "* The outputs $y$ are $n\\times1$ vectors\n",
        "\n",
        "The behavior is defined as follows:\n",
        "$$\\begin{align*} s_{t} & = f_1(W^{ss} s_{{t-1}} + W^{sx} x_{t} + W^{ss}_0) \\\\ y_{t} & = f_2(W^o s_{t} + W^o_0) \\end{align*}$$\n",
        "\n",
        "where $f_1$ and $f_2$ are two activation functions, such as linear, softmax or tanh.\n",
        "\n",
        "\n",
        "Note that each input `i` below has dimension `l x 1`. Implement the corresponding state machine, where the weights are given in `__init__`. Make sure to set an appropriate `start_state`."
      ]
    },
    {
      "cell_type": "code",
      "metadata": {
        "id": "TcuRs5y0A4n-",
        "colab_type": "code",
        "colab": {}
      },
      "source": [
        "class RNN(SM):\n",
        "    def __init__(self, Wsx, Wss, Wo, Wss_0, Wo_0, f1, f2, start_state):\n",
        "        # Your code here\n",
        "        self.start_state = start_state\n",
        "        self.Wsx = Wsx\n",
        "        self.Wss = Wss\n",
        "        self.Wo = Wo\n",
        "        self.Wss_0 = Wss_0\n",
        "        self.Wo_0 = Wo_0\n",
        "        self.f1 = f1\n",
        "        self.f2 = f2\n",
        "\n",
        "\n",
        "    def transition_fn(self, s, x):\n",
        "        mat_1 = np.matmul(self.Wss,s)\n",
        "        mat_2 = np.matmul(self.Wsx,x)\n",
        "        return self.f1(mat_1+mat_2+self.Wss_0)\n",
        "        \n",
        "\n",
        "    def output_fn(self, s):\n",
        "        mat1= np.matmul(self.Wo,s)\n",
        "        return self.f2(mat1+self.Wo_0)"
      ],
      "execution_count": 0,
      "outputs": []
    },
    {
      "cell_type": "code",
      "metadata": {
        "id": "TRhk4MrFv-BY",
        "colab_type": "code",
        "outputId": "76fc552e-17e0-4c5d-dc0a-a49ed6868b02",
        "colab": {
          "base_uri": "https://localhost:8080/",
          "height": 214
        }
      },
      "source": [
        "def softmax(z):\n",
        "    v = np.exp(z)\n",
        "    return v / np.sum(v, axis = 0\n",
        "Wsx1 = np.array([[0.1],\n",
        "                     [0.1],\n",
        "                     [0.1]])\n",
        "Wss1 = np.array([[0.1,0.2,0.3],\n",
        "                     [0.4,0.5,0.6],\n",
        "                     [0.7,0.8,0.9]])\n",
        "Wo1 = np.array([[0.1,0.2,0.3]]\n",
        "                    )\n",
        "Wss1_0 = np.array([[0.01],\n",
        "                       [0.02],\n",
        "                       [0.03]])\n",
        "Wo1_0 = np.array([[0.1]])\n",
        "    \n",
        "start_state = np.array([[0,0,0]]).T\n",
        "rnn = RNN(Wsx1, Wss1, Wo1, Wss1_0, Wo1_0, np.tanh, softmax, start_state)\n",
        "rnn.transduce([np.array([[-1]]), np.array([[-2]]), np.array([[2]]),np.array([[3]]), np.array([[-3]]), np.array([[1]])]) "
      ],
      "execution_count": 0,
      "outputs": [
        {
          "output_type": "error",
          "ename": "NameError",
          "evalue": "ignored",
          "traceback": [
            "\u001b[0;31m---------------------------------------------------------------------------\u001b[0m",
            "\u001b[0;31mNameError\u001b[0m                                 Traceback (most recent call last)",
            "\u001b[0;32m<ipython-input-9-795d13263f99>\u001b[0m in \u001b[0;36m<module>\u001b[0;34m()\u001b[0m\n\u001b[1;32m     13\u001b[0m \u001b[0;34m\u001b[0m\u001b[0m\n\u001b[1;32m     14\u001b[0m \u001b[0mstart_state\u001b[0m \u001b[0;34m=\u001b[0m \u001b[0mnp\u001b[0m\u001b[0;34m.\u001b[0m\u001b[0marray\u001b[0m\u001b[0;34m(\u001b[0m\u001b[0;34m[\u001b[0m\u001b[0;34m[\u001b[0m\u001b[0;36m0\u001b[0m\u001b[0;34m,\u001b[0m\u001b[0;36m0\u001b[0m\u001b[0;34m,\u001b[0m\u001b[0;36m0\u001b[0m\u001b[0;34m]\u001b[0m\u001b[0;34m]\u001b[0m\u001b[0;34m)\u001b[0m\u001b[0;34m.\u001b[0m\u001b[0mT\u001b[0m\u001b[0;34m\u001b[0m\u001b[0;34m\u001b[0m\u001b[0m\n\u001b[0;32m---> 15\u001b[0;31m \u001b[0mrnn\u001b[0m \u001b[0;34m=\u001b[0m \u001b[0mRNN\u001b[0m\u001b[0;34m(\u001b[0m\u001b[0mWsx1\u001b[0m\u001b[0;34m,\u001b[0m \u001b[0mWss1\u001b[0m\u001b[0;34m,\u001b[0m \u001b[0mWo1\u001b[0m\u001b[0;34m,\u001b[0m \u001b[0mWss1_0\u001b[0m\u001b[0;34m,\u001b[0m \u001b[0mWo1_0\u001b[0m\u001b[0;34m,\u001b[0m \u001b[0mnp\u001b[0m\u001b[0;34m.\u001b[0m\u001b[0mtanh\u001b[0m\u001b[0;34m,\u001b[0m \u001b[0msoftmax\u001b[0m\u001b[0;34m,\u001b[0m \u001b[0mstart_state\u001b[0m\u001b[0;34m)\u001b[0m\u001b[0;34m\u001b[0m\u001b[0;34m\u001b[0m\u001b[0m\n\u001b[0m\u001b[1;32m     16\u001b[0m \u001b[0mrnn\u001b[0m\u001b[0;34m.\u001b[0m\u001b[0mtransduce\u001b[0m\u001b[0;34m(\u001b[0m\u001b[0;34m[\u001b[0m\u001b[0mnp\u001b[0m\u001b[0;34m.\u001b[0m\u001b[0marray\u001b[0m\u001b[0;34m(\u001b[0m\u001b[0;34m[\u001b[0m\u001b[0;34m[\u001b[0m\u001b[0;34m-\u001b[0m\u001b[0;36m1\u001b[0m\u001b[0;34m]\u001b[0m\u001b[0;34m]\u001b[0m\u001b[0;34m)\u001b[0m\u001b[0;34m,\u001b[0m \u001b[0mnp\u001b[0m\u001b[0;34m.\u001b[0m\u001b[0marray\u001b[0m\u001b[0;34m(\u001b[0m\u001b[0;34m[\u001b[0m\u001b[0;34m[\u001b[0m\u001b[0;34m-\u001b[0m\u001b[0;36m2\u001b[0m\u001b[0;34m]\u001b[0m\u001b[0;34m]\u001b[0m\u001b[0;34m)\u001b[0m\u001b[0;34m,\u001b[0m \u001b[0mnp\u001b[0m\u001b[0;34m.\u001b[0m\u001b[0marray\u001b[0m\u001b[0;34m(\u001b[0m\u001b[0;34m[\u001b[0m\u001b[0;34m[\u001b[0m\u001b[0;36m2\u001b[0m\u001b[0;34m]\u001b[0m\u001b[0;34m]\u001b[0m\u001b[0;34m)\u001b[0m\u001b[0;34m,\u001b[0m\u001b[0mnp\u001b[0m\u001b[0;34m.\u001b[0m\u001b[0marray\u001b[0m\u001b[0;34m(\u001b[0m\u001b[0;34m[\u001b[0m\u001b[0;34m[\u001b[0m\u001b[0;36m3\u001b[0m\u001b[0;34m]\u001b[0m\u001b[0;34m]\u001b[0m\u001b[0;34m)\u001b[0m\u001b[0;34m,\u001b[0m \u001b[0mnp\u001b[0m\u001b[0;34m.\u001b[0m\u001b[0marray\u001b[0m\u001b[0;34m(\u001b[0m\u001b[0;34m[\u001b[0m\u001b[0;34m[\u001b[0m\u001b[0;34m-\u001b[0m\u001b[0;36m3\u001b[0m\u001b[0;34m]\u001b[0m\u001b[0;34m]\u001b[0m\u001b[0;34m)\u001b[0m\u001b[0;34m,\u001b[0m \u001b[0mnp\u001b[0m\u001b[0;34m.\u001b[0m\u001b[0marray\u001b[0m\u001b[0;34m(\u001b[0m\u001b[0;34m[\u001b[0m\u001b[0;34m[\u001b[0m\u001b[0;36m1\u001b[0m\u001b[0;34m]\u001b[0m\u001b[0;34m]\u001b[0m\u001b[0;34m)\u001b[0m\u001b[0;34m]\u001b[0m\u001b[0;34m)\u001b[0m\u001b[0;34m\u001b[0m\u001b[0;34m\u001b[0m\u001b[0m\n",
            "\u001b[0;31mNameError\u001b[0m: name 'softmax' is not defined"
          ]
        }
      ]
    },
    {
      "cell_type": "code",
      "metadata": {
        "id": "DcckX5R1JWII",
        "colab_type": "code",
        "colab": {}
      },
      "source": [
        "\n",
        "def test_rnn():\n",
        "    Wsx1 = np.array([[0.1],\n",
        "                     [0.1],\n",
        "                     [0.1]])\n",
        "    Wss1 = np.array([[0.1,0.2,0.3],\n",
        "                     [0.4,0.5,0.6],\n",
        "                     [0.7,0.8,0.9]])\n",
        "    Wo1 = np.array([[0.1,0.2,0.3],\n",
        "                    [0.4,0.5,0.6]])\n",
        "    Wss1_0 = np.array([[0.01],\n",
        "                       [0.02],\n",
        "                       [0.03]])\n",
        "    Wo1_0 = np.array([[0.1],\n",
        "                      [0.2]])\n",
        "    in1 = [np.array([[0.1]]),\n",
        "           np.array([[0.3]]),\n",
        "           np.array([[0.5]])]\n",
        "    start_state = np.array([[0,0,0]]).T\n",
        "    \n",
        "    rnn = RNN(Wsx1, Wss1, Wo1, Wss1_0, Wo1_0, np.tanh, softmax, start_state)\n",
        "    expected = np.array([[[0.4638293846951024], [0.5361706153048975]],\n",
        "                        [[0.4333239107898491], [0.566676089210151]],\n",
        "                        [[0.3821688606165438], [0.6178311393834561]]])\n",
        "\n",
        "    assert(np.allclose(expected, rnn.transduce(in1)))\n",
        "    print(\"Test passed!\")\n",
        "\n",
        "# Unit test\n",
        "test_rnn()"
      ],
      "execution_count": 0,
      "outputs": []
    },
    {
      "cell_type": "markdown",
      "metadata": {
        "id": "1gRiDImvBrTF",
        "colab_type": "text"
      },
      "source": [
        "### 1.5 Accumulator Sign RNN\n",
        "Enter the parameter matrices and vectors for an instance of the `RNN` class such that the output is `1` if the cumulative sum of the inputs is positive, `-1` if the cumulative sum is negative and `0` if otherwise. Make sure that you scale the outputs so that the output activation values are very close to `1`, `0` and `-1`. Note that both the inputs and outputs are `1 x 1`.\n",
        "\n",
        "Hint: `np.tanh` may be useful. Remember to convert your Python lists to `np.array`."
      ]
    },
    {
      "cell_type": "code",
      "metadata": {
        "id": "PhH9pv3GBvam",
        "colab_type": "code",
        "colab": {}
      },
      "source": [
        "def tanh_checker(x):\n",
        "    if np.tanh(x)<0:\n",
        "        if np.tanh(x)>-0.01:\n",
        "            return 0\n",
        "        else:\n",
        "            return -1\n",
        "    elif np.tanh(x)>0:\n",
        "        return 1\n",
        "    else:\n",
        "        return 0\n",
        "f = np.vectorize(tanh_checker)\n",
        "Wsx = np.array([[1/3],\n",
        "                     [1/3],\n",
        "                     [1/3]])\n",
        "Wss = np.array([[1/3,1/3,1/3],\n",
        "                     [1/3,1/3,1/3],\n",
        "                     [1/3,1/3,1/3]])\n",
        "Wo = np.array([[1/3,1/3,1/3]]\n",
        "                    )\n",
        "Wss_0 = np.array([[0],\n",
        "                       [0],\n",
        "                       [0]])\n",
        "Wo_0 = np.array([[0]])\n",
        "f1 = lambda x:x\n",
        "f2 = f\n",
        "start_state = np.array([[0,0,0]]).T\n",
        "acc_sign = RNN(Wsx, Wss, Wo, Wss_0, Wo_0, f1, f2, start_state)"
      ],
      "execution_count": 0,
      "outputs": []
    },
    {
      "cell_type": "code",
      "metadata": {
        "id": "78ug9-PLJk82",
        "colab_type": "code",
        "colab": {}
      },
      "source": [
        "def test_acc_sign_rnn(acc_sign_rnn):\n",
        "    res = acc_sign_rnn.transduce([-1, -2, 2, 3, -3, 1])\n",
        "    print(res)\n",
        "    expected = np.array([[[-1.0]], [[-1.0]], [[-1.0]], [[1.0]], [[-1.0]], [[0.0]]])\n",
        "    assert(np.allclose(expected, res))\n",
        "    print(\"Test passed!\")\n",
        "\n",
        "# Unit test\n",
        "test_acc_sign_rnn(acc_sign)"
      ],
      "execution_count": 0,
      "outputs": []
    },
    {
      "cell_type": "markdown",
      "metadata": {
        "id": "J01wlpQRCKyo",
        "colab_type": "text"
      },
      "source": [
        "### 1.6 Autoregression RNN\n",
        "\n",
        "Enter the parameter matrices and vectors for an instance of the `RNN` class such that it implements the following autoregressive model:\n",
        "$$y_t=y_{t-1} - 2y_{t-2} + 3y_{t-3}$$\n",
        "Set `start_state` such that $y_1=-2$, $y_t=0$ for $t\\lt1$. Note that all inputs will be zero.\n"
      ]
    },
    {
      "cell_type": "code",
      "metadata": {
        "id": "C744ijBCCOm5",
        "colab_type": "code",
        "colab": {}
      },
      "source": [
        "Wsx =             np.zeros((3,1))\n",
        "Wss =             np.array([[1,-2,3],[1,0,0],[0,1,0]])\n",
        "Wo =              np.array([[1,-2,3]])\n",
        "Wss_0 =           np.zeros((3,1))\n",
        "Wo_0 =            np.zeros((1,1))\n",
        "f1 =              lambda x:x\n",
        "f2 =              lambda x:x\n",
        "start_state =     np.array([[0,0,-2/3]]).T\n",
        "auto = RNN(Wsx, Wss, Wo, Wss_0, Wo_0, f1, f2, start_state)\n"
      ],
      "execution_count": 0,
      "outputs": []
    },
    {
      "cell_type": "code",
      "metadata": {
        "id": "4RrDCow1J-M8",
        "colab_type": "code",
        "colab": {}
      },
      "source": [
        "def test_auto_rnn(auto_rnn):\n",
        "    res = auto_rnn.transduce([np.array([[0]]) for x in range(5)])\n",
        "    expected = np.array([[[-2.0]], [[2.0]], [[0.0]], [[-10.0]], [[-4.0]]])\n",
        "    assert(np.allclose(expected, res))\n",
        "    print(\"Test passed!\")\n",
        "    \n",
        "# Unit test\n",
        "test_auto_rnn(auto)"
      ],
      "execution_count": 0,
      "outputs": []
    },
    {
      "cell_type": "markdown",
      "metadata": {
        "id": "fa8rXc0qDvkh",
        "colab_type": "text"
      },
      "source": [
        "## 5) MDP Implementations\n",
        "\n",
        "We'll be using a couple of simple classes to represent MDPs and probability distributions.\n",
        "\n",
        "###5.1 Working with MDPs\n",
        "\n",
        "Recall that given a $Q_\\pi$ for any policy $\\pi$, then $V_\\pi(s)$ = $\\max_a Q_\\pi(s, a)$.\n",
        "\n",
        "1. Write the `value` method, which takes a $Q$ function (an instance of `TabularQ`) and a state and returns the value `V` of an action that maximizes $Q$ function stored in `q`.\n",
        "\n"
      ]
    },
    {
      "cell_type": "code",
      "metadata": {
        "id": "i9bNukNug53m",
        "colab_type": "code",
        "colab": {}
      },
      "source": [
        "def value(q, s):\n",
        "    \"\"\" Return Q*(s,a) based on current Q\n",
        "\n",
        "    >>> q = TabularQ([0,1,2,3],['b','c'])\n",
        "    >>> q.set(0, 'b', 5)\n",
        "    >>> q.set(0, 'c', 10)\n",
        "    >>> q_star = value(q,0)\n",
        "    >>> q_star\n",
        "    10\n",
        "    \"\"\"\n",
        "    max = None\n",
        "    for action in q.actions:\n",
        "        if max== None:\n",
        "            max = q.q[(s,action)] \n",
        "        elif max< q.q[(s,action)]:\n",
        "            max = q.q[(s,action)]\n",
        "    return max\n",
        "    \n"
      ],
      "execution_count": 0,
      "outputs": []
    },
    {
      "cell_type": "code",
      "metadata": {
        "id": "aUaRY8RtOQv0",
        "colab_type": "code",
        "colab": {}
      },
      "source": [
        "def test_value():\n",
        "    q = TabularQ([0,1,2,3], ['b','c'])\n",
        "    q.set(0, 'b', 5)\n",
        "    q.set(0, 'c', 10)\n",
        "    assert(value(q, 0) == 10)\n",
        "    print(\"Test passed!\")\n",
        "    \n",
        "test_value()"
      ],
      "execution_count": 0,
      "outputs": []
    },
    {
      "cell_type": "markdown",
      "metadata": {
        "id": "xAkLsRdMhj5U",
        "colab_type": "text"
      },
      "source": [
        "2. Write the `greedy` method, which takes a $Q$ function (an instance of `TabularQ`) and a state and returns the action `a` determined by the policy that acts greedily with respect to the current value of `q`."
      ]
    },
    {
      "cell_type": "code",
      "metadata": {
        "id": "o-0-YCiVhrq6",
        "colab_type": "code",
        "colab": {}
      },
      "source": [
        "def greedy(q, s):\n",
        "    \"\"\" Return pi*(s) based on a greedy strategy.\n",
        "\n",
        "    >>> q = TabularQ([0,1,2,3],['b','c'])\n",
        "    >>> q.set(0, 'b', 5)\n",
        "    >>> q.set(0, 'c', 10)\n",
        "    >>> q.set(1, 'b', 2)\n",
        "    >>> greedy(q, 0)\n",
        "    'c'\n",
        "    >>> greedy(q, 1)\n",
        "    'b'\n",
        "    \"\"\"\n",
        "    # Your code here\n",
        "    m_action = None\n",
        "    max = None\n",
        "    for action in q.actions:\n",
        "        if (s,action) in q.q:\n",
        "            if m_action==None:\n",
        "                max = q.q[(s,action)]\n",
        "                m_action = action\n",
        "            else:\n",
        "                if q.q[(s,action)]>max:\n",
        "                    max = q.q[(s,action)]\n",
        "                    m_action = action\n",
        "    return m_action\n"
      ],
      "execution_count": 0,
      "outputs": []
    },
    {
      "cell_type": "code",
      "metadata": {
        "id": "X5SlyiDuOb4n",
        "colab_type": "code",
        "colab": {}
      },
      "source": [
        "def test_greedy():\n",
        "    q = TabularQ([0, 1, 2, 3],['b', 'c'])\n",
        "    q.set(0, 'b', 5)\n",
        "    q.set(0, 'c', 10)\n",
        "    q.set(1, 'b', 2)\n",
        "    assert(greedy(q, 0) == 'c')\n",
        "    assert(greedy(q, 1) == 'b')\n",
        "    print(\"Test passed!\")\n",
        "\n",
        "test_greedy()"
      ],
      "execution_count": 0,
      "outputs": []
    },
    {
      "cell_type": "markdown",
      "metadata": {
        "id": "EM4maWSahr-F",
        "colab_type": "text"
      },
      "source": [
        "3. Write the `epsilon_greedy` method, which takes a state `s` and a parameter `epsilon`, and returns an action. With probability `1 - epsilon` it should select the greedy action and with probability `epsilon` it should select an action uniformly from the set of possible actions.\n",
        "\n",
        "    - You should use `random.random()` to generate a random number to test againts eps.\n",
        "    - You should use the `draw` method of `uniform_dist` to generate a random action.\n",
        "    - You can use the `greedy` function defined earlier."
      ]
    },
    {
      "cell_type": "code",
      "metadata": {
        "id": "bTNz9DmwiEpJ",
        "colab_type": "code",
        "colab": {}
      },
      "source": [
        "def epsilon_greedy(q, s, eps = 0.5):\n",
        "    \"\"\" Returns an action.\n",
        "\n",
        "    >>> q = TabularQ([0,1,2,3],['b','c'])\n",
        "    >>> q.set(0, 'b', 5)\n",
        "    >>> q.set(0, 'c', 10)\n",
        "    >>> q.set(1, 'b', 2)\n",
        "    >>> eps = 0.\n",
        "    >>> epsilon_greedy(q, 0, eps) #greedy\n",
        "    'c'\n",
        "    >>> epsilon_greedy(q, 1, eps) #greedy\n",
        "    'b'\n",
        "    \"\"\"\n",
        "    if random.random() < eps:  # True with prob eps, random action\n",
        "        DDist_obj = uniform_dist(q.actions)\n",
        "        return DDist_obj.draw()\n",
        "    else:\n",
        "        return greedy(q,s)\n",
        "        "
      ],
      "execution_count": 0,
      "outputs": []
    },
    {
      "cell_type": "code",
      "metadata": {
        "id": "jXjStECQOqiR",
        "colab_type": "code",
        "colab": {}
      },
      "source": [
        "def test_epsilon_greedy():\n",
        "    q = TabularQ([0, 1, 2, 3],['b', 'c'])\n",
        "    q.set(0, 'b', 5)\n",
        "    q.set(0, 'c', 10)\n",
        "    q.set(1, 'b', 2)\n",
        "    eps = 0.0\n",
        "    assert(epsilon_greedy(q, 0, eps) == 'c')\n",
        "    assert(epsilon_greedy(q, 1, eps) == 'b')\n",
        "    print(\"Test passed!\")\n",
        "    \n",
        "test_epsilon_greedy()"
      ],
      "execution_count": 0,
      "outputs": []
    },
    {
      "cell_type": "markdown",
      "metadata": {
        "id": "D0FimoqLiJQ_",
        "colab_type": "text"
      },
      "source": [
        "### 5.2 Implement Q-Value Iteration\n",
        "Provide the definition of the `value_iteration` function. It takes an MDP instance and a `TabularQ` instance. It should terminate when\n",
        "\n",
        "$$\\max_{(s, a)}\\left|Q_t(s, a) - Q_{t-1}(s, a)\\right| < \\epsilon$$\n",
        "\n",
        "that is, the biggest difference between the value functions on successive iterations is less than input parameter `eps`. This function should return the final `TabularQ` instance. It should do no more that `max_iters` iterations.\n",
        "\n",
        "* Make sure to copy the Q function between iterations, e.g. `new_q = q.copy()`.\n",
        "* The `q` parameter contains the initialization of the Q function.\n",
        "* The `value` function is already defined."
      ]
    },
    {
      "cell_type": "code",
      "metadata": {
        "colab_type": "code",
        "id": "WvvczSHijES5",
        "colab": {}
      },
      "source": [
        "def value_iteration(mdp, q, eps = 0.01, max_iters=1000):\n",
        "    for i in range(max_iters):\n",
        "        q_new = q.copy()\n",
        "        max = 0\n",
        "        for elt in q.q:\n",
        "            v = mdp.reward_fn(elt[0],elt[1])+mdp.discount_factor*mdp.transition_model(elt[0],elt[1]).expectation(lambda s:value(q,s))\n",
        "            q_new.set(elt[0],elt[1],v)\n",
        "            if max < abs(q_new.q[(elt[0],elt[1])]-q.q[(elt[0],elt[1])]):\n",
        "                max = abs(q_new.q[(elt[0],elt[1])]-q.q[(elt[0],elt[1])])\n",
        "        \n",
        "        if max<eps:\n",
        "            return q_new\n",
        "        q = q_new.copy()\n",
        "            "
      ],
      "execution_count": 0,
      "outputs": []
    },
    {
      "cell_type": "markdown",
      "metadata": {
        "id": "KBYHRzz-_Q_-",
        "colab_type": "text"
      },
      "source": [
        "Below is the implementation of the \"tiny\" MDP detailed in Problem 2 and Problem 5.3. We will be using it to test `value_iteration`."
      ]
    },
    {
      "cell_type": "code",
      "metadata": {
        "id": "pRO8Zf47_Qm0",
        "colab_type": "code",
        "colab": {}
      },
      "source": [
        "def tiny_reward(s, a):\n",
        "    # Reward function\n",
        "    if s == 1: return 1\n",
        "    elif s == 3: return 2\n",
        "    else: return 0\n",
        "\n",
        "def tiny_transition(s, a):\n",
        "    # Transition function\n",
        "    if s == 0:\n",
        "        if a == 'b':\n",
        "            return DDist({1 : 0.9, 2 : 0.1})\n",
        "        else:\n",
        "            return DDist({1 : 0.1, 2 : 0.9})\n",
        "    elif s == 1:\n",
        "        return DDist({1 : 0.1, 0 : 0.9})\n",
        "    elif s == 2:\n",
        "        return DDist({2 : 0.1, 3 : 0.9})\n",
        "    elif s == 3:\n",
        "        return DDist({3 : 0.1, 0 : 0.9})\n",
        "    \n",
        "def test_value_iteration():\n",
        "    tiny = MDP([0, 1, 2, 3], ['b', 'c'], tiny_transition, tiny_reward, 0.9)\n",
        "    q = TabularQ(tiny.states, tiny.actions)\n",
        "    qvi = value_iteration(tiny, q, eps=0.1, max_iters=100)\n",
        "    expected = dict([((2, 'b'), 5.962924188028282),\n",
        "                     ((1, 'c'), 5.6957634856549095),\n",
        "                     ((1, 'b'), 5.6957634856549095),\n",
        "                     ((0, 'b'), 5.072814297918393),\n",
        "                     ((0, 'c'), 5.262109602844769),\n",
        "                     ((3, 'b'), 6.794664584556008),\n",
        "                     ((3, 'c'), 6.794664584556008),\n",
        "                     ((2, 'c'), 5.962924188028282)])\n",
        "    for k in qvi.q:\n",
        "        print(\"k=%s, expected=%s, got=%s\" % (k, expected[k], qvi.q[k]))      \n",
        "        assert(abs(qvi.q[k] - expected[k]) < 1.0e-5)\n",
        "    print(\"Test passed!\")\n",
        "\n",
        "test_value_iteration()"
      ],
      "execution_count": 0,
      "outputs": []
    },
    {
      "cell_type": "markdown",
      "metadata": {
        "id": "mpxPhBqijE6e",
        "colab_type": "text"
      },
      "source": [
        "### 5.3 Receding-horizon control and online search\n",
        "Write a procedure `q_em(mdp, s, a, h)` that computes the horizon-h Q value for state `s` and action `a` by using the definition of the finite-horizon Q function in the notes (but including a discount factor). \n",
        "\n",
        "This can be written as a relatively simple recursive procedure with a base case (what is the Q value when horizon is 0?) and a recursive case that computes the horizon `h` values assuming we can (recursively) get horizon `h-1` values."
      ]
    },
    {
      "cell_type": "code",
      "metadata": {
        "id": "M5qsQ-vVjco9",
        "colab_type": "code",
        "colab": {}
      },
      "source": [
        "def q_em(mdp, s, a, h):\n",
        "    # Your code here\n",
        "    if h==0:\n",
        "        return 0\n",
        "    return mdp.reward_fn(s,a)+mdp.discount_factor*mdp.transition_model(s,a).expectation(lambda s:q_em(mdp, s, a, h-1))"
      ],
      "execution_count": 0,
      "outputs": []
    },
    {
      "cell_type": "markdown",
      "metadata": {
        "id": "7pgEI65qLKKQ",
        "colab_type": "text"
      },
      "source": [
        "We will be using the \"tiny\" MDP again to test `q_em`."
      ]
    },
    {
      "cell_type": "code",
      "metadata": {
        "id": "9i3X0Q_v-3Vo",
        "colab_type": "code",
        "colab": {}
      },
      "source": [
        "def test_q_em():\n",
        "    tiny = MDP([0, 1, 2, 3], ['b', 'c'], tiny_transition, tiny_reward, 0.9)\n",
        "    assert(np.allclose([q_em(tiny, 0, 'b', 1)], [0.0]))\n",
        "    assert(np.allclose([q_em(tiny, 0, 'b', 2)], [0.81]))\n",
        "    assert(np.allclose([q_em(tiny, 0, 'b', 3)], [1.0287000000000002]))\n",
        "    assert(np.allclose([q_em(tiny, 0, 'c', 3)], [1.4103]))\n",
        "    assert(np.allclose([q_em(tiny, 2, 'b', 3)], [1.9116000000000002]))\n",
        "    print(\"Tests passed!\")\n",
        "\n",
        "test_q_em()"
      ],
      "execution_count": 0,
      "outputs": []
    }
  ]
}