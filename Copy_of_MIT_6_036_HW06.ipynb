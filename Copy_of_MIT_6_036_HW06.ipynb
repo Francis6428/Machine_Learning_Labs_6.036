{
  "nbformat": 4,
  "nbformat_minor": 0,
  "metadata": {
    "colab": {
      "name": "Copy of MIT 6.036 HW06.ipynb",
      "provenance": [],
      "collapsed_sections": [],
      "include_colab_link": true
    },
    "kernelspec": {
      "name": "python3",
      "display_name": "Python 3"
    }
  },
  "cells": [
    {
      "cell_type": "markdown",
      "metadata": {
        "id": "view-in-github",
        "colab_type": "text"
      },
      "source": [
        "<a href=\"https://colab.research.google.com/github/snpushpi/MIT_machine_learning/blob/master/Copy_of_MIT_6_036_HW06.ipynb\" target=\"_parent\"><img src=\"https://colab.research.google.com/assets/colab-badge.svg\" alt=\"Open In Colab\"/></a>"
      ]
    },
    {
      "cell_type": "markdown",
      "metadata": {
        "id": "lH5VCTqoeKAr",
        "colab_type": "text"
      },
      "source": [
        "# MIT 6.036 Spring 2020: Homework 6\n",
        "\n",
        "This homework does not include provided Python code. Instead, we encourage you to write your own code to help you answer some of these problems, and/or test and debug the code components we do ask for. All of the problems should be simple enough that hand calculation should be possible, but it may be convenient to write some short programs to explore the neural networks, particularly for problem 2."
      ]
    },
    {
      "cell_type": "code",
      "metadata": {
        "id": "Z9_de7CGeMAN",
        "colab_type": "code",
        "colab": {}
      },
      "source": [
        "import numpy as np"
      ],
      "execution_count": 0,
      "outputs": []
    },
    {
      "cell_type": "markdown",
      "metadata": {
        "id": "yAfU13u6Mjoh",
        "colab_type": "text"
      },
      "source": [
        "# **Problem 2**"
      ]
    },
    {
      "cell_type": "markdown",
      "metadata": {
        "id": "hdfhir-jCOpH",
        "colab_type": "text"
      },
      "source": [
        "You may find it helpful to implement a softmax function to use for solving the problems."
      ]
    },
    {
      "cell_type": "code",
      "metadata": {
        "id": "dpa15uD0CN31",
        "colab_type": "code",
        "colab": {}
      },
      "source": [
        "# Implement Softmax\n",
        "def SM(z):\n",
        "    '''\n",
        "    z is a column vector\n",
        "    '''\n",
        "    y = np.exp(z)\n",
        "    return y/np.sum(y)"
      ],
      "execution_count": 0,
      "outputs": []
    },
    {
      "cell_type": "markdown",
      "metadata": {
        "id": "xYjIQLRleiMg",
        "colab_type": "text"
      },
      "source": [
        "**Problem 2.A**"
      ]
    },
    {
      "cell_type": "code",
      "metadata": {
        "id": "oETivVBBemUi",
        "colab_type": "code",
        "outputId": "088959ec-0630-4978-a095-ae413937b7b1",
        "colab": {
          "base_uri": "https://localhost:8080/",
          "height": 69
        }
      },
      "source": [
        "z = np.array([[-1, 0, 1]]).T\n",
        "SM(z)"
      ],
      "execution_count": 0,
      "outputs": [
        {
          "output_type": "execute_result",
          "data": {
            "text/plain": [
              "array([[0.09003057],\n",
              "       [0.24472847],\n",
              "       [0.66524096]])"
            ]
          },
          "metadata": {
            "tags": []
          },
          "execution_count": 5
        }
      ]
    },
    {
      "cell_type": "markdown",
      "metadata": {
        "id": "wiHN0bJHevw2",
        "colab_type": "text"
      },
      "source": [
        "**Problem 2.C - 2.F**"
      ]
    },
    {
      "cell_type": "code",
      "metadata": {
        "id": "_6FPSgJHeu_Q",
        "colab_type": "code",
        "outputId": "ea802087-fa27-44ea-df81-b8a641735d20",
        "colab": {
          "base_uri": "https://localhost:8080/",
          "height": 86
        }
      },
      "source": [
        "w = np.array([[1, -1, -2], [-1, 2, 1]])\n",
        "x = np.array([[1], [1]])\n",
        "y = np.array([[0, 1, 0]]).T\n",
        "z = np.matmul(w.T,x) \n",
        "a = SM(z)\n",
        "sub = a-y\n",
        "print(sub.shape)\n",
        "t = np.matmul(x,sub.T)\n",
        "t\n",
        "n = w - 0.5*t\n",
        "n\n",
        "new_output = np.matmul(n.T,x) \n",
        "new_output\n",
        "SM(new_output)"
      ],
      "execution_count": 0,
      "outputs": [
        {
          "output_type": "stream",
          "text": [
            "(3, 1)\n"
          ],
          "name": "stdout"
        },
        {
          "output_type": "execute_result",
          "data": {
            "text/plain": [
              "array([[0.15918761],\n",
              "       [0.77245284],\n",
              "       [0.06835955]])"
            ]
          },
          "metadata": {
            "tags": []
          },
          "execution_count": 12
        }
      ]
    },
    {
      "cell_type": "markdown",
      "metadata": {
        "id": "X-sRxHa9e7w9",
        "colab_type": "text"
      },
      "source": [
        "# **Problem 3**"
      ]
    },
    {
      "cell_type": "markdown",
      "metadata": {
        "id": "5hRvq915LqFz",
        "colab_type": "text"
      },
      "source": [
        "**Problem 3.1**\n",
        "\n",
        "You may choose to draft your implementation here. We recommend looking at the ReLU plot at the top of the homework page for better understanding."
      ]
    },
    {
      "cell_type": "code",
      "metadata": {
        "id": "l7QkgtSofQ-h",
        "colab_type": "code",
        "colab": {}
      },
      "source": [
        "def rlu(v):\n",
        "    if v>0:\n",
        "        return 1\n",
        "    else:\n",
        "        return 0\n",
        "    \n",
        "def dReLU_dz(z):\n",
        "    my_func = np.vectorize(rlu)\n",
        "    return my_func(z)"
      ],
      "execution_count": 0,
      "outputs": []
    }
  ]
}